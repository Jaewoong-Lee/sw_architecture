{
  "nbformat": 4,
  "nbformat_minor": 0,
  "metadata": {
    "colab": {
      "name": "Day4_SVM_Decision_Tree.ipynb",
      "provenance": [],
      "collapsed_sections": [],
      "toc_visible": true
    },
    "kernelspec": {
      "name": "python3",
      "display_name": "Python 3"
    }
  },
  "cells": [
    {
      "cell_type": "markdown",
      "metadata": {
        "id": "RT3j2QQrTyeu"
      },
      "source": [
        "# Support Vector Machine"
      ]
    },
    {
      "cell_type": "code",
      "metadata": {
        "id": "p5sygEuzTzjc"
      },
      "source": [
        "import numpy as np\n",
        "import pandas as pd\n",
        "import sklearn\n",
        "import matplotlib.pyplot as plt\n",
        "\n",
        "X = np.array([[2, 2], [1, 3], [2, 3], [5, 3], [2, 4], [3, 4], \n",
        "              [6, 4], [1, 5], [5, 5], [4, 6], [6, 6], [5, 7]])\n",
        "Y = np.array([0, 0, 0, 1, 0, 0, \n",
        "              1, 0, 1, 1, 1, 1])\n",
        "\n",
        "\n",
        "plt.scatter(X[:, 0], X[:, 1], c=Y, cmap=plt.cm.Paired)"
      ],
      "execution_count": null,
      "outputs": []
    },
    {
      "cell_type": "code",
      "metadata": {
        "id": "DXQZqLKc0sGK"
      },
      "source": [
        "from sklearn.svm import SVC\n",
        "\n",
        "# 모델 생성\n",
        "model = SVC(C=100, kernel='linear')\n",
        "# model = SVC(C=0.1, kernel='linear')\n",
        "# model = SVC(C=10, kernel='rbf') # overfit 조심\n",
        "\n",
        "# 모델 학습\n",
        "model.fit(X, Y)"
      ],
      "execution_count": null,
      "outputs": []
    },
    {
      "cell_type": "code",
      "metadata": {
        "id": "4kN3PDMX0wxf"
      },
      "source": [
        "# 2차원 공간의 점들의 좌표. x와 y의 최대, 최소값을 구하여, 그래프의 가로축 세로축 길이를 결정. \n",
        "# x는 가로축, y는 세로축을 의미. (그래프를 그릴 평면의 사이즈 설정)\n",
        "horizontal_min, horizontal_max = X[:, 0].min() - 1, X[:, 0].max() + 1\n",
        "vertical_min, vertical_max = X[:, 1].min() - 1, X[:, 1].max() + 1\n",
        "\n",
        "# .02 간격으로 min값과 max 사이 matrix를 생성.\n",
        "h = .02\n",
        "xx, yy = np.meshgrid(np.arange(horizontal_min, horizontal_max, h),\n",
        "                     np.arange(vertical_min, vertical_max, h))\n",
        "\n",
        "# 공간 상의 점들(영역)에 대한 모델의 예측 값들을 구함.\n",
        "fig, ax = plt.subplots()\n",
        "xy = np.vstack([xx.ravel(), yy.ravel()]).T\n",
        "\n",
        "Z = model.decision_function(xy).reshape(xx.shape)\n",
        "ax.scatter(X[:, 0], X[:, 1], c=Y)\n",
        "ax.contour(xx, yy, Z, colors='k', levels=[-1,0,1], alpha=0.5, linestyles=['--', '-', '--'])\n",
        "\n",
        "# 지지벡터(Support Vector) 표현\n",
        "ax.scatter(model.support_vectors_[:,0], model.support_vectors_[:,1], s=60, facecolors='r')\n",
        "ax.set_title('Support Vector Machine')"
      ],
      "execution_count": null,
      "outputs": []
    },
    {
      "cell_type": "markdown",
      "metadata": {
        "id": "b2y5av-MJdZQ"
      },
      "source": [
        "# Decision Tree"
      ]
    },
    {
      "cell_type": "code",
      "metadata": {
        "id": "_OubnXR2JgKp"
      },
      "source": [
        "# 데이터 준비\n",
        "from sklearn.metrics import accuracy_score\n",
        "from sklearn.tree import DecisionTreeClassifier\n",
        "from sklearn.ensemble import RandomForestClassifier\n",
        "\n",
        "from sklearn.datasets import load_breast_cancer\n",
        "import matplotlib.pyplot as plt\n",
        "import numpy as np\n",
        "\n",
        "\n",
        "# 유방암(Breast Cancer) 환자 데이터, 569개 데이터, 30개의 feature, 환자 class 2 (음성, 양성)\n",
        "cancer = load_breast_cancer()\n",
        "\n",
        "x = cancer.data\n",
        "y = cancer.target\n",
        "print(cancer.feature_names)\n",
        "\n",
        "# train, test 나눔\n",
        "from sklearn.model_selection import train_test_split\n",
        "x_train, x_test, y_train, y_test = train_test_split(x, y, test_size=0.3, shuffle=True, random_state=1)\n"
      ],
      "execution_count": null,
      "outputs": []
    },
    {
      "cell_type": "code",
      "metadata": {
        "id": "BFNFcyJfKvih"
      },
      "source": [
        "# 모델 학습\n",
        "depth=3\n",
        "max_leaf_nodes=10\n",
        "model = DecisionTreeClassifier(criterion='entropy', max_depth=depth, max_leaf_nodes=max_leaf_nodes, random_state=2021) # decision tree\n",
        "# model = RandomForestClassifier(criterion='entropy', max_depth=depth, max_leaf_nodes=max_leaf_nodes, random_state=2021) # random forest\n",
        "\n",
        "model.fit(x_train, y_train)"
      ],
      "execution_count": null,
      "outputs": []
    },
    {
      "cell_type": "code",
      "metadata": {
        "id": "_ndme3mxK4Q3"
      },
      "source": [
        "# 모델 평가\n",
        "pred = model.predict(x_test)\n",
        "print(\"Accuracy: %.6f\" % accuracy_score(y_true=y_test, y_pred=pred))"
      ],
      "execution_count": null,
      "outputs": []
    },
    {
      "cell_type": "code",
      "metadata": {
        "id": "kY8sYYnbK-SS"
      },
      "source": [
        "# 모델 분석\n",
        "\n",
        "from sklearn.tree import plot_tree, export_text\n",
        "from IPython import display\n",
        "\n",
        "feature_names = cancer.feature_names\n",
        "target_names = cancer.target_names\n",
        "\n",
        "# 시각화(텍스트)\n",
        "text_representation = export_text(model)\n",
        "print(text_representation)\n",
        "\n",
        "\n",
        "# 시각화(그림)\n",
        "plt.figure(figsize=(20,20))\n",
        "tree_plot = plot_tree(model,\n",
        "                      feature_names=feature_names,\n",
        "                      class_names = target_names,\n",
        "                      label = 'all',\n",
        "                      rounded=True,\n",
        "                      proportion = True,\n",
        "                      filled=True)"
      ],
      "execution_count": null,
      "outputs": []
    },
    {
      "cell_type": "code",
      "metadata": {
        "id": "heJEfFoXLitp"
      },
      "source": [
        "#  Depth에 따른 정확도 변화\n",
        "accuracy = []\n",
        "max_depth=10\n",
        "max_leaf_nodes=10\n",
        "\n",
        "# depth 1부터 10까지\n",
        "for depth in range(1, max_depth + 1):\n",
        "    model = DecisionTreeClassifier(criterion='entropy', max_depth=depth, max_leaf_nodes=max_leaf_nodes, random_state=2021)\n",
        "    # model = RandomForestClassifier(criterion='entropy', max_depth=depth, max_leaf_nodes=max_leaf_nodes, random_state=2021)\n",
        "    model.fit(x_train, y_train)\n",
        "\n",
        "    pred = model.predict(x_test)\n",
        "    \n",
        "    acc = accuracy_score(y_true=y_test, y_pred=pred)\n",
        "    accuracy.append(acc)\n",
        "  \n",
        "# 시각화\n",
        "plt.plot(list(range(1, max_depth + 1)), accuracy)\n",
        "plt.xlabel('Depth')\n",
        "plt.ylabel('Accuracy')\n",
        "plt.show()"
      ],
      "execution_count": null,
      "outputs": []
    },
    {
      "cell_type": "code",
      "metadata": {
        "id": "z6wY7CzI1uaw"
      },
      "source": [
        ""
      ],
      "execution_count": null,
      "outputs": []
    },
    {
      "cell_type": "markdown",
      "metadata": {
        "id": "dCMc_jRmch31"
      },
      "source": [
        "# 와인 데이터에서의 SVM과 Decision Tree"
      ]
    },
    {
      "cell_type": "code",
      "metadata": {
        "id": "8STF9_W2coHm"
      },
      "source": [
        "# 와인 데이터, 178개 데이터, 13개의 feature, 와인 종류 3가지\r\n",
        "from sklearn.datasets import load_wine\r\n",
        "from sklearn.metrics import accuracy_score\r\n",
        "\r\n",
        "wine = load_wine()\r\n",
        "\r\n",
        "x = wine.data\r\n",
        "y = wine.target\r\n",
        "\r\n",
        "# train, test 나눔\r\n",
        "from sklearn.model_selection import train_test_split\r\n",
        "x_train, x_test, y_train, y_test = train_test_split(x, y, test_size=0.3, shuffle=True, random_state=1)"
      ],
      "execution_count": null,
      "outputs": []
    },
    {
      "cell_type": "code",
      "metadata": {
        "id": "RPQtbUFQZluK"
      },
      "source": [
        "# Tree 기반 모델\r\n",
        "from sklearn.tree import DecisionTreeClassifier\r\n",
        "from sklearn.ensemble import RandomForestClassifier\r\n",
        "\r\n",
        "# 모델 튜닝\r\n",
        "depth=3\r\n",
        "max_leaf_nodes=10\r\n",
        "model = DecisionTreeClassifier(criterion='entropy', max_depth=depth, max_leaf_nodes=max_leaf_nodes, random_state=2021) # decision tree\r\n",
        "# model = RandomForestClassifier(criterion='entropy', max_depth=depth, max_leaf_nodes=max_leaf_nodes, random_state=2021) # random forest\r\n",
        "\r\n",
        "# 모델 학습\r\n",
        "model.fit(x_train, y_train)\r\n",
        "\r\n",
        "# 모델 평가\r\n",
        "pred = model.predict(x_test)\r\n",
        "print(\"Accuracy: %.6f\" % accuracy_score(y_true=y_test, y_pred=pred))"
      ],
      "execution_count": null,
      "outputs": []
    },
    {
      "cell_type": "code",
      "metadata": {
        "id": "3QyEbujLZluR"
      },
      "source": [
        "# SVM\r\n",
        "from sklearn.svm import SVC\r\n",
        "\r\n",
        "# 모델 생성\r\n",
        "model = SVC(C=10000, kernel='linear') # 모델 튜닝\r\n",
        "\r\n",
        "# 모델 학습\r\n",
        "model.fit(x_train, y_train)\r\n",
        "\r\n",
        "# 모델 평가\r\n",
        "pred = model.predict(x_test)\r\n",
        "print(\"Accuracy: %.6f\" % accuracy_score(y_true=y_test, y_pred=pred))"
      ],
      "execution_count": null,
      "outputs": []
    },
    {
      "cell_type": "markdown",
      "metadata": {
        "id": "uC00WgtOcrW9"
      },
      "source": [
        "# 스팸 데이터에서의 SVM과 Decision Tree"
      ]
    },
    {
      "cell_type": "code",
      "metadata": {
        "id": "CtI699W9crXC"
      },
      "source": [
        "# 데이터 준비\r\n",
        "import os                            # 데이터 파일 경로 설정\r\n",
        "import csv                           # 데이터 파일 로드\r\n",
        "import numpy as np                   # numpy 행렬 조작\r\n",
        "from sklearn.metrics import accuracy_score\r\n",
        "\r\n",
        "def Load_Spam_Dataset(filename):\r\n",
        "    with open(filename, 'r') as f:\r\n",
        "        csv_reader = csv.reader(f)                  # 파일 로드\r\n",
        "        header = next(csv_reader)\r\n",
        "\r\n",
        "        x_data = []\r\n",
        "        y_data = []\r\n",
        "        for line in csv_reader:\r\n",
        "            features = line[:-1]\r\n",
        "            x = [1] + list(map(float, features))   # x_data에 bias를 위한 1추가\r\n",
        "            y = float(line[-1])\r\n",
        "\r\n",
        "            x_data.append(x)\r\n",
        "            y_data.append(y)\r\n",
        "\r\n",
        "        x_array = np.array(x_data)\r\n",
        "        y_array = np.array(y_data)\r\n",
        "\r\n",
        "    return header, x_array, y_array"
      ],
      "execution_count": null,
      "outputs": []
    },
    {
      "cell_type": "code",
      "metadata": {
        "id": "0iqcT1pLYPSL"
      },
      "source": [
        "_, x_train, y_train = Load_Spam_Dataset('./Spam_train.csv')\r\n",
        "_, x_test, y_test = Load_Spam_Dataset('./Spam_test.csv')\r\n",
        "\r\n",
        "print(x_train.shape) # 데이터 수, feature 수\r\n",
        "print(y_train.shape) # 데이터 수"
      ],
      "execution_count": null,
      "outputs": []
    },
    {
      "cell_type": "code",
      "metadata": {
        "id": "weafF319YWhw"
      },
      "source": [
        "# Tree 기반 모델\r\n",
        "from sklearn.tree import DecisionTreeClassifier\r\n",
        "from sklearn.ensemble import RandomForestClassifier\r\n",
        "depth=3\r\n",
        "max_leaf_nodes=10\r\n",
        "model = DecisionTreeClassifier(criterion='entropy', max_depth=depth, max_leaf_nodes=max_leaf_nodes, random_state=2021) # decision tree\r\n",
        "# model = RandomForestClassifier(criterion='entropy', max_depth=depth, max_leaf_nodes=max_leaf_nodes, random_state=2021) # random forest\r\n",
        "\r\n",
        "# 모델 학습\r\n",
        "model.fit(x_train, y_train)\r\n",
        "\r\n",
        "# 모델 평가\r\n",
        "pred = model.predict(x_test)\r\n",
        "print(\"Accuracy: %.6f\" % accuracy_score(y_true=y_test, y_pred=pred))"
      ],
      "execution_count": null,
      "outputs": []
    },
    {
      "cell_type": "code",
      "metadata": {
        "id": "3JS1WYT4Yguq"
      },
      "source": [
        "# SVM\r\n",
        "from sklearn.svm import SVC\r\n",
        "\r\n",
        "# 모델 생성\r\n",
        "model = SVC(C=0.1, kernel='linear')\r\n",
        "\r\n",
        "# 모델 학습\r\n",
        "model.fit(x_train, y_train)\r\n",
        "\r\n",
        "# 모델 평가\r\n",
        "pred = model.predict(x_test)\r\n",
        "print(\"Accuracy: %.6f\" % accuracy_score(y_true=y_test, y_pred=pred))"
      ],
      "execution_count": null,
      "outputs": []
    },
    {
      "cell_type": "code",
      "metadata": {
        "id": "x9Ma8TBCYqpz"
      },
      "source": [
        ""
      ],
      "execution_count": null,
      "outputs": []
    }
  ]
}